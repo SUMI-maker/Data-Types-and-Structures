{
  "nbformat": 4,
  "nbformat_minor": 0,
  "metadata": {
    "colab": {
      "provenance": []
    },
    "kernelspec": {
      "name": "python3",
      "display_name": "Python 3"
    },
    "language_info": {
      "name": "python"
    }
  },
  "cells": [
    {
      "cell_type": "markdown",
      "source": [
        "Q1 What are data structures, and why are they important\n",
        "\n",
        " ANS : Data structures are ways of organizing, storing, and managing data in a computer so that it can be accessed and modified efficiently. In Python, they provide the foundation for storing and organizing data, enabling you to perform operations like adding, removing, searching, or sorting elements in a way that optimizes performance.\n",
        "\n",
        "### Common Data Structures in Python:\n",
        "\n",
        "1. **Lists**:\n",
        "   - Ordered, mutable collection of items.\n",
        "   - Allows duplicates and can store any data type.\n",
        "   - Example: `my_list = [1, 2, 3, 'a', True]`\n",
        "\n",
        "2. **Tuples**:\n",
        "   - Ordered, immutable collection of items.\n",
        "   - Unlike lists, you cannot modify a tuple after it is created.\n",
        "   - Example: `my_tuple = (1, 2, 3)`\n",
        "\n",
        "3. **Dictionaries**:\n",
        "   - Unordered collection of key-value pairs.\n",
        "   - Fast lookups for values using keys.\n",
        "   - Example: `my_dict = {'name': 'Alice', 'age': 25}`\n",
        "\n",
        "4. **Sets**:\n",
        "   - Unordered collection of unique items.\n",
        "   - No duplicates are allowed.\n",
        "   - Example: `my_set = {1, 2, 3}`\n",
        "\n",
        "5. **Queues** (using `collections.deque`):\n",
        "   - FIFO (First-In-First-Out) data structure.\n",
        "   - Good for handling tasks in order, like scheduling jobs.\n",
        "   - Example: `from collections import deque; q = deque([1, 2, 3])`\n",
        "\n",
        "6. **Stacks**:\n",
        "   - LIFO (Last-In-First-Out) structure.\n",
        "   - Used in problems like reversing or backtracking.\n",
        "   - Example: `stack = [1, 2, 3]` (You can use `append()` to push and `pop()` to remove the last item).\n",
        "\n",
        "### Importance of Data Structures in Python:\n",
        "\n",
        "1. **Efficiency**:\n",
        "   - Different data structures have different performance characteristics. Choosing the right one can significantly optimize time and space complexity for your programs.\n",
        "   \n",
        "2. **Organization**:\n",
        "   - Data structures help you organize data logically so that you can easily manipulate, search, or access it.\n",
        "\n",
        "3. **Problem-Solving**:\n",
        "   - Many real-world problems can be solved more easily with the right data structures. For example, graphs can represent networks, trees can model hierarchical structures, and heaps can be used for priority queues.\n",
        "\n",
        "4. **Scalability**:\n",
        "   - Proper use of data structures ensures that your program can handle large datasets efficiently.\n",
        "\n",
        "Q2 Explain the difference between mutable and immutable data types with examples\n",
        "\n",
        "ANS : In Python, **mutable** and **immutable** types refer to whether the contents of a data structure can be modified after it is created.\n",
        "\n",
        "### 1. Mutable Data Types\n",
        "A **mutable** data type allows modification of its contents after creation. This means that once the object is created, you can change, add, or remove elements.\n",
        "\n",
        "#### Examples of Mutable Data Types:\n",
        "- **Lists**: You can modify a list by adding, removing, or changing its elements.\n",
        "  ```python\n",
        "  my_list = [1, 2, 3]\n",
        "  my_list[0] = 100   # Modify an element\n",
        "  my_list.append(4)  # Add an element\n",
        "  print(my_list)     # Output: [100, 2, 3, 4]\n",
        "  ```\n",
        "\n",
        "- **Dictionaries**: You can change, add, or remove key-value pairs in a dictionary.\n",
        "  ```python\n",
        "  my_dict = {'name': 'Alice', 'age': 25}\n",
        "  my_dict['age'] = 26    # Modify a value\n",
        "  my_dict['city'] = 'NY' # Add a new key-value pair\n",
        "  del my_dict['name']    # Remove a key-value pair\n",
        "  print(my_dict)         # Output: {'age': 26, 'city': 'NY'}\n",
        "  ```\n",
        "\n",
        "- **Sets**: You can add or remove elements in a set.\n",
        "  ```python\n",
        "  my_set = {1, 2, 3}\n",
        "  my_set.add(4)    # Add an element\n",
        "  my_set.remove(2) # Remove an element\n",
        "  print(my_set)    # Output: {1, 3, 4}\n",
        "  ```\n",
        "\n",
        "### 2. Immutable Data Types\n",
        "An **immutable** data type does not allow modification of its contents after creation. Once the object is created, it cannot be changed, and any operation that seems to modify it actually creates a new object.\n",
        "\n",
        "#### Examples of Immutable Data Types:\n",
        "- **Tuples**: Once created, you cannot change the values in a tuple.\n",
        "  ```python\n",
        "  my_tuple = (1, 2, 3)\n",
        "  # my_tuple[0] = 100  # This will raise a TypeError\n",
        "  ```\n",
        "\n",
        "- **Strings**: Strings are immutable, so you cannot modify a character in a string directly.\n",
        "  ```python\n",
        "  my_string = \"hello\"\n",
        "  # my_string[0] = 'H'  # This will raise a TypeError\n",
        "  my_string = \"Hello\"  # This creates a new string\n",
        "  print(my_string)     # Output: Hello\n",
        "  ```\n",
        "\n",
        "- **Frozensets**: Similar to sets, but immutable.\n",
        "  ```python\n",
        "  my_frozenset = frozenset([1, 2, 3])\n",
        "  # my_frozenset.add(4)  # This will raise a TypeError\n",
        "  ```\n",
        "\n",
        "### Key Differences:\n",
        "1. **Modification**:\n",
        "   - Mutable types: You can modify the data directly (e.g., changing, adding, or deleting elements).\n",
        "   - Immutable types: You cannot modify the data; any modification creates a new object.\n",
        "\n",
        "2. **Performance**:\n",
        "   - Mutable objects can be more flexible but might have performance overhead when copied or shared.\n",
        "   - Immutable objects are generally more memory-efficient when passed around because they can be shared safely without the risk of being changed.\n",
        "\n",
        "3. **Use Cases**:\n",
        "   - Mutable types are useful when you need to update, change, or extend the data.\n",
        "   - Immutable types are often used in situations where data integrity should be preserved, or when they need to be used as dictionary keys (because they are hashable).\n",
        "\n",
        "#### Example of Immutable Behavior:\n",
        "```python\n",
        "x = (1, 2, 3)  # Create a tuple\n",
        "y = x  # Both x and y reference the same tuple\n",
        "x = (4, 5, 6)  # Assign a new tuple to x\n",
        "print(x)  # Output: (4, 5, 6)\n",
        "print(y)  # Output: (1, 2, 3)\n",
        "```\n",
        "\n",
        "Q3 What are the main differences between lists and tuples in Python\n",
        "\n",
        "ANS : The main differences between **lists** and **tuples** in Python lie in their **mutability**, **syntax**, and **performance characteristics**. Here's a detailed comparison:\n",
        "\n",
        "### 1. **Mutability**\n",
        "- **Lists** are **mutable**, meaning you can modify them after they are created (e.g., add, remove, or change elements).\n",
        "- **Tuples** are **immutable**, meaning once they are created, you cannot modify them. You can't add, remove, or change the elements.\n",
        "\n",
        "**Example of List (Mutable)**:\n",
        "```python\n",
        "my_list = [1, 2, 3]\n",
        "my_list[1] = 100  # Modify an element\n",
        "my_list.append(4) # Add an element\n",
        "print(my_list)    # Output: [1, 100, 3, 4]\n",
        "```\n",
        "\n",
        "**Example of Tuple (Immutable)**:\n",
        "```python\n",
        "my_tuple = (1, 2, 3)\n",
        "# my_tuple[1] = 100  # This would raise a TypeError because tuples are immutable\n",
        "```\n",
        "\n",
        "### 2. **Syntax**\n",
        "- **Lists** are defined using square brackets (`[]`).\n",
        "- **Tuples** are defined using parentheses (`()`), though you can also create a tuple with a single element by adding a comma.\n",
        "\n",
        "**List Syntax**:\n",
        "```python\n",
        "my_list = [1, 2, 3]\n",
        "```\n",
        "\n",
        "**Tuple Syntax**:\n",
        "```python\n",
        "my_tuple = (1, 2, 3)\n",
        "single_element_tuple = (1,)  # Tuple with one element needs a trailing comma\n",
        "```\n",
        "\n",
        "### 3. **Performance**\n",
        "- **Tuples** generally have better performance in terms of memory usage and access time compared to lists because they are immutable and have a simpler structure.\n",
        "- **Lists**, being mutable, require more overhead, especially when elements are modified or resized, which can lead to slightly slower performance compared to tuples.\n",
        "\n",
        "### 4. **Use Cases**\n",
        "- **Lists** are used when you need a collection of items that may need to be modified or changed during the program’s execution (e.g., adding/removing elements, sorting).\n",
        "- **Tuples** are used when the data should remain constant and unchangeable, or when you need a hashable object for use as a dictionary key.\n",
        "\n",
        "**Example**:\n",
        "- **List**: For a list of items you might update (e.g., shopping cart items).\n",
        "- **Tuple**: For a set of fixed values, such as coordinates or RGB color values.\n",
        "\n",
        "### 5. **Methods Available**\n",
        "- **Lists** have several built-in methods for modification, such as `append()`, `remove()`, `extend()`, `sort()`, etc.\n",
        "- **Tuples** have fewer methods because they are immutable. The most common methods available are `count()` and `index()`.\n",
        "\n",
        "**List Methods Example**:\n",
        "```python\n",
        "my_list = [1, 2, 3]\n",
        "my_list.append(4)  # Add an element\n",
        "my_list.remove(2)  # Remove an element\n",
        "```\n",
        "\n",
        "**Tuple Methods Example**:\n",
        "```python\n",
        "my_tuple = (1, 2, 3)\n",
        "print(my_tuple.count(2))  # Output: 1\n",
        "print(my_tuple.index(3))  # Output: 2\n",
        "```\n",
        "\n",
        "### 6. **Hashability**\n",
        "- **Tuples** are **hashable** (if they contain only hashable elements), meaning they can be used as keys in a dictionary or as elements in a set.\n",
        "- **Lists** are **not hashable**, so they cannot be used as dictionary keys or set elements because they are mutable.\n",
        "\n",
        "### 7. **Memory Consumption**\n",
        "- **Tuples** generally use **less memory** than lists due to their immutability.\n",
        "- **Lists** require more memory to store additional information related to their mutability.\n",
        "\n",
        "### Summary Table\n",
        "\n",
        "| Feature           | **List**                                  | **Tuple**                                  |\n",
        "|-------------------|-------------------------------------------|--------------------------------------------|\n",
        "| **Mutability**     | Mutable (can be changed)                 | Immutable (cannot be changed)              |\n",
        "| **Syntax**         | Defined with square brackets (`[]`)       | Defined with parentheses (`()`)            |\n",
        "| **Methods**        | More methods (e.g., `append()`, `remove()`) | Fewer methods (e.g., `count()`, `index()`) |\n",
        "| **Performance**    | Slightly slower (due to mutability)       | Faster (due to immutability)               |\n",
        "| **Use Cases**      | Dynamic data that needs modification      | Fixed data, hashable collections           |\n",
        "| **Hashability**    | Not hashable (cannot be used as dict keys) | Hashable (can be used as dict keys)        |\n",
        "| **Memory**         | More memory usage                         | Less memory usage                          |\n",
        "\n",
        "Q4  Describe how dictionaries store data.\n",
        "\n",
        "ANS : Dictionaries in Python store data as **key-value pairs**. This means that each item in a dictionary is made up of a **key** and its associated **value**. The key is unique, and the value can be any data type (e.g., string, integer, list, another dictionary, etc.).\n",
        "\n",
        "Here's a breakdown of how dictionaries store data and how they work internally:\n",
        "\n",
        "### 1. **Key-Value Pairs**\n",
        "   - A dictionary is made up of pairs where each key is associated with a value.\n",
        "   - The **key** must be **immutable** (e.g., strings, numbers, tuples), while the **value** can be of any data type (including mutable objects like lists or other dictionaries).\n",
        "\n",
        "**Example**:\n",
        "```python\n",
        "my_dict = {\n",
        "    'name': 'Alice',\n",
        "    'age': 25,\n",
        "    'city': 'New York'\n",
        "}\n",
        "```\n",
        "- In this example:\n",
        "  - `'name'` is a key, and `'Alice'` is the value.\n",
        "  - `'age'` is a key, and `25` is the value.\n",
        "  - `'city'` is a key, and `'New York'` is the value.\n",
        "\n",
        "### 2. **How Python Stores Data (Internally)**\n",
        "Python dictionaries are implemented using a data structure known as a **hash table** (or hash map). Here's a high-level overview of how this works:\n",
        "\n",
        "- **Hashing**: When a key is added to the dictionary, Python computes a **hash value** for the key. A hash function takes the key and produces a fixed-size string or number that represents the key uniquely.\n",
        "  \n",
        "- **Buckets**: This hash value is then used to determine the \"bucket\" or \"slot\" in which the key-value pair will be stored. In simpler terms, the hash value directs Python to the appropriate place in memory where the pair is stored.\n",
        "  \n",
        "- **Handling Collisions**: Sometimes, two keys can hash to the same location (this is called a **collision**). Python handles this by storing multiple items in the same bucket and resolving collisions using techniques like **open addressing** or **chaining** (where a list is used to store multiple key-value pairs in the same bucket).\n",
        "\n",
        "### 3. **Fast Lookups**\n",
        "   - One of the key benefits of dictionaries is that **lookups** (retrieving values by their keys) are **very fast**, typically **O(1)** (constant time).\n",
        "   - When you want to retrieve a value, Python computes the hash of the key, quickly finds the corresponding bucket, and fetches the value.\n",
        "\n",
        "**Example**:\n",
        "```python\n",
        "my_dict = {'name': 'Alice', 'age': 25}\n",
        "# Looking up the value associated with the key 'name'\n",
        "print(my_dict['name'])  # Output: Alice\n",
        "```\n",
        "Python computes the hash of `'name'`, locates the appropriate bucket, and retrieves `'Alice'` very efficiently.\n",
        "\n",
        "### 4. **Insertion and Deletion**\n",
        "   - When you insert a new key-value pair into a dictionary, Python computes the hash of the key and places the pair into the corresponding bucket.\n",
        "   - When you delete an item, Python again uses the hash of the key to find the correct bucket and removes the pair.\n",
        "\n",
        "### 5. **Ordering in Dictionaries (Python 3.7 and above)**\n",
        "   - Starting from Python 3.7, dictionaries maintain the **insertion order** of keys. This means that when you iterate over a dictionary, the keys will be returned in the same order that they were added.\n",
        "   - This behavior is a result of an implementation detail that was made official in Python 3.7. Prior to Python 3.7, dictionaries did not guarantee any specific order.\n",
        "\n",
        "### 6. **Example of Dictionary Operations**\n",
        "```python\n",
        "# Creating a dictionary\n",
        "my_dict = {'name': 'Alice', 'age': 25}\n",
        "\n",
        "# Adding a new key-value pair\n",
        "my_dict['city'] = 'New York'\n",
        "\n",
        "# Modifying a value\n",
        "my_dict['age'] = 26\n",
        "\n",
        "# Removing a key-value pair\n",
        "del my_dict['name']\n",
        "\n",
        "# Accessing values by key\n",
        "print(my_dict['age'])  # Output: 26\n",
        "```\n",
        "- Adding, modifying, and deleting key-value pairs are all efficient operations due to the underlying hash table structure.\n",
        "\n",
        "### 7. **Why Use Dictionaries?**\n",
        "   - **Fast Lookups**: Dictionaries offer O(1) average time complexity for lookups, insertions, and deletions.\n",
        "   - **Flexible**: You can store any type of value (even lists or other dictionaries).\n",
        "   - **Unordered (Until Python 3.7)**: They allow you to map values to unique keys, and while they did not maintain order prior to Python 3.7, in modern Python versions, they maintain insertion order.\n",
        "\n",
        "\n",
        "Q5  Why might you use a set instead of a list in Python\n",
        "\n",
        "ANS : You would use a **set** instead of a **list** in Python if you need **unique elements** and faster **membership checks** (i.e., checking if an item exists). Sets are also more efficient for **set operations** like union, intersection, and difference.\n",
        "\n",
        "Q6 What is a string in Python, and how is it different from a list\n",
        "\n",
        "ANS A **string** in Python is a sequence of **immutable** characters, enclosed in single, double, or triple quotes (e.g., `'hello'`, `\"world\"`).\n",
        "\n",
        "A **list** is a **mutable** collection of items, which can be of any data type (including strings), and its elements can be changed, added, or removed.\n",
        "\n",
        "**Key difference**: Strings are immutable (cannot be modified after creation), while lists are mutable (can be changed).\n",
        "\n",
        "Q7 How do tuples ensure data integrity in Python\n",
        "\n",
        "ANS : Tuples ensure data integrity in Python by being **immutable**, meaning their values cannot be changed once created. This prevents accidental modification, ensuring that the data remains consistent and unaltered throughout the program.\n",
        "\n",
        "Q8  What is a hash table, and how does it relate to dictionaries in Python\n",
        "\n",
        "Ans : A **hash table** is a data structure that stores data in key-value pairs, where each key is hashed to determine its position in the table. This allows for **fast lookups**, **insertions**, and **deletions** with average time complexity of O(1).\n",
        "\n",
        "In Python, **dictionaries** are implemented using hash tables. When a key-value pair is added to a dictionary, Python computes the **hash value** of the key, which determines where the pair is stored. This enables efficient access to values by their keys.\n",
        "\n",
        "Q9 : Can lists contain different data types in Python\n",
        "\n",
        "ANS : Yes, **lists** in Python can contain elements of **different data types**. A single list can store integers, strings, floats, and even other lists or objects, allowing for great flexibility in organizing and manipulating data.\n",
        "\n",
        "**Example**:\n",
        "```python\n",
        "my_list = [1, 'hello', 3.14, [2, 3]]\n",
        "```\n",
        "In this example, the list contains an integer, a string, a float, and another list, demonstrating the ability to mix data types.\n",
        "\n",
        "Q10 : Explain why strings are immutable in Python\n",
        "\n",
        "ANS : Strings are **immutable** in Python because their values cannot be changed once they are created. This design choice provides several benefits:\n",
        "\n",
        "1. **Efficiency**: Immutable strings can be shared safely between multiple parts of a program without the risk of being modified, improving performance and memory usage.\n",
        "   \n",
        "2. **Data Integrity**: By making strings immutable, Python ensures that the original value of a string remains consistent and cannot be accidentally altered during execution.\n",
        "\n",
        "3. **Hashability**: Immutable objects like strings can be used as **keys** in dictionaries and **elements** in sets because their hash value remains constant, which is not possible with mutable objects.\n",
        "\n",
        "This immutability helps in creating more reliable and predictable programs.\n",
        "\n",
        "Q11 : P What advantages do dictionaries offer over lists for certain tasks\n",
        "\n",
        "ANS : Dictionaries offer several advantages over lists for certain tasks, particularly when it comes to storing and accessing data efficiently. Here are some key advantages:\n",
        "\n",
        "1. **Faster Lookups**:\n",
        "   - Dictionaries use a key-value pair structure, which allows for **O(1)** average-time complexity for lookups. This means that accessing an element by its key is much faster compared to searching through a list, which takes **O(n)** time in the worst case.\n",
        "   \n",
        "2. **Key-Based Access**:\n",
        "   - In dictionaries, you can retrieve values using unique **keys** instead of relying on the index position like in lists. This makes it easier to map and retrieve data without needing to know the order or position of elements.\n",
        "\n",
        "3. **Data Association**:\n",
        "   - Dictionaries are perfect for associating a specific **value** with a **key**, which is useful when you need to represent real-world relationships (e.g., mapping a person’s name to their contact number, a product’s ID to its price, etc.).\n",
        "\n",
        "4. **Unique Keys**:\n",
        "   - Each key in a dictionary must be unique, ensuring that you don’t accidentally overwrite data. This feature makes dictionaries a good choice for situations where data must be uniquely identifiable (e.g., when storing user IDs or employee numbers).\n",
        "\n",
        "5. **Flexible Data Representation**:\n",
        "   - In dictionaries, values can be any data type (lists, other dictionaries, integers, strings, etc.), allowing for complex, nested data structures. This is harder to manage efficiently in lists.\n",
        "\n",
        "6. **Dynamic and Unordered**:\n",
        "   - Dictionaries are **unordered** collections, but they allow dynamic changes such as adding, updating, or deleting keys and values. In contrast, lists are better for ordered collections but less efficient for frequent modifications or lookups by specific identifiers.\n",
        "\n",
        "### Use Cases Where Dictionaries Shine:\n",
        "- **Mapping or lookups**: When you need to quickly look up a value based on a key.\n",
        "- **Grouping related data**: Associating one piece of data (e.g., a name) with another (e.g., an address).\n",
        "- **Counting occurrences**: For counting the number of times an item appears in a collection (e.g., a word count in a text).\n",
        "  \n",
        "### Example:\n",
        "- **List Example**: If you wanted to find the age of a person, you'd have to loop through the list to find their name and retrieve their age. This would take longer as the list grows.\n",
        "- **Dictionary Example**: You can directly access the person's age by their name (key), which is much faster.\n",
        "\n",
        "Q 12 : Describe a scenario where using a tuple would be preferable over a list\n",
        "\n",
        "ANS : A **tuple** would be preferable over a **list** in situations where **immutability**, **data integrity**, or **performance optimization** is crucial. Here's a detailed scenario where a tuple is the better choice:\n",
        "\n",
        "### Scenario: Storing Coordinates for a Geographic Location\n",
        "\n",
        "Imagine you're building a mapping application that stores geographic coordinates (latitude and longitude) for specific locations. Each location needs to be represented by a pair of coordinates, and these coordinates should never change once they are set (because they represent fixed positions on the Earth).\n",
        "\n",
        "#### Why use a **tuple** in this case?\n",
        "\n",
        "1. **Immutability**:\n",
        "   - Since tuples are **immutable** (cannot be changed once created), this ensures that the coordinates (latitude and longitude) cannot be accidentally modified or updated during the lifetime of the program. This is important for maintaining the accuracy and integrity of geographic data.\n",
        "   - For example, if you used a list, there would be a risk of someone changing the coordinates of a location unintentionally, which could lead to errors.\n",
        "\n",
        "2. **Data Integrity**:\n",
        "   - A tuple guarantees that the stored coordinates remain constant throughout the program. It enforces the principle of **data integrity**, ensuring that the coordinates remain the same from the moment they are created to the moment they are accessed.\n",
        "\n",
        "3. **Performance**:\n",
        "   - Tuples are generally more **memory-efficient** and slightly faster than lists because they have a smaller memory footprint due to their immutability. If you are storing a large number of coordinates in memory, using tuples can result in better performance and lower memory usage compared to lists.\n",
        "\n",
        "4. **Semantic Meaning**:\n",
        "   - Tuples are often used to represent **fixed collections of items** (like pairs or triplets) where the order and the structure are important but the data itself shouldn't change. In this case, the tuple `(latitude, longitude)` conveys the idea that these two values represent a geographic point that should not be modified.\n",
        "\n",
        "### Example Code:\n",
        "\n",
        "```python\n",
        "# Storing coordinates for a specific location as a tuple\n",
        "location_coordinates = (40.7128, -74.0060)  # Example coordinates for New York City\n",
        "\n",
        "# The coordinates should remain constant and cannot be modified accidentally\n",
        "# Attempting to modify a tuple will raise an error:\n",
        "# location_coordinates[0] = 41.0  # This would raise a TypeError\n",
        "```\n",
        "\n",
        "In this scenario, using a **tuple** ensures that the coordinates remain unchanged, which is important for the integrity of your application. If you had used a list, the values of the coordinates could potentially be modified, leading to possible inaccuracies in your location data.\n",
        "\n",
        "### When **Not** to Use a Tuple:\n",
        "If the data you are working with needs to be modified, updated, or extended during the program's execution (e.g., if the coordinates of a location can change), a **list** would be more appropriate because of its mutability.\n",
        "\n",
        "Q 13 :  How do sets handle duplicate values in Python\n",
        "\n",
        "ANS 13 : In Python, a **set** is a collection data type that automatically **removes duplicate values**. It only stores **unique elements**, meaning if you attempt to add a duplicate value to a set, it will not be added again. This is one of the key features of a set.\n",
        "\n",
        "### Key Points About Sets and Duplicates:\n",
        "1. **Automatic Removal of Duplicates**:\n",
        "   - When you add elements to a set, any duplicate values are ignored, and only the unique values remain in the set.\n",
        "   \n",
        "2. **Unordered**:\n",
        "   - Sets are **unordered collections**, meaning there is no specific order of elements when you iterate over a set. This is different from lists or tuples, which maintain the order of elements.\n",
        "\n",
        "3. **Mutability**:\n",
        "   - Sets are **mutable**, meaning you can add and remove elements after the set is created, but the set will always ensure that all elements are unique.\n",
        "\n",
        "### Example Code:\n",
        "\n",
        "```python\n",
        "# Create a set with duplicate values\n",
        "my_set = {1, 2, 2, 3, 4, 4, 5}\n",
        "\n",
        "# Display the set\n",
        "print(my_set)  # Output: {1, 2, 3, 4, 5}\n",
        "\n",
        "# The duplicates (2 and 4) are automatically removed\n",
        "```\n",
        "\n",
        "### Explanation:\n",
        "- In the above example, when you try to create a set with duplicate values (e.g., `2` and `4`), Python automatically removes the duplicates, and the set only contains unique values: `{1, 2, 3, 4, 5}`.\n",
        "\n",
        "### How Sets Handle Duplicates Internally:\n",
        "- When you add an element to a set, Python checks if that element already exists in the set. If the element is not already present, it is added to the set; if the element is already in the set, it is ignored.\n",
        "  \n",
        "### Use Case:\n",
        "- **Removing duplicates from a list**: One common use of sets is to remove duplicates from a list. You can convert a list to a set and then back to a list to get a list with unique values.\n",
        "  \n",
        "```python\n",
        "# List with duplicates\n",
        "my_list = [1, 2, 2, 3, 4, 4, 5]\n",
        "\n",
        "# Convert the list to a set and back to a list\n",
        "unique_list = list(set(my_list))\n",
        "\n",
        "print(unique_list)  # Output: [1, 2, 3, 4, 5] (Note: order may vary)\n",
        "```\n",
        "Q14 :  How does the “in” keyword work differently for lists and dictionaries\n",
        "\n",
        "  Ans : The **`in`** keyword works differently for **lists** and **dictionaries** in Python:\n",
        "\n",
        "1. **For Lists**:\n",
        "   - The `in` keyword checks if a specified **value** exists in the list.\n",
        "   - It returns **True** if the value is found, otherwise **False**.\n",
        "   \n",
        "   **Example**:\n",
        "   ```python\n",
        "   my_list = [1, 2, 3, 4]\n",
        "   print(3 in my_list)  # Output: True\n",
        "   print(5 in my_list)  # Output: False\n",
        "   ```\n",
        "\n",
        "2. **For Dictionaries**:\n",
        "   - The `in` keyword checks if a specified **key** exists in the dictionary, not the value.\n",
        "   - It returns **True** if the key is present, otherwise **False**.\n",
        "   \n",
        "   **Example**:\n",
        "   ```python\n",
        "   my_dict = {\"a\": 1, \"b\": 2, \"c\": 3}\n",
        "   print(\"b\" in my_dict)  # Output: True\n",
        "   print(2 in my_dict)    # Output: False (checks for keys, not values)\\\n",
        "\n",
        "Q15 : Can you modify the elements of a tuple? Explain why or why not\n",
        "\n",
        "ANS : No, you cannot modify the elements of a **tuple** because tuples are **immutable** in Python. Once a tuple is created, its elements cannot be changed, added, or removed. This immutability ensures that the data remains constant throughout the program.\n",
        "\n",
        "However, if a tuple contains mutable elements (like a list), those mutable elements can be modified, but the tuple itself cannot be changed.\n",
        "\n",
        "Q16 : What is a nested dictionary, and give an example of its use case\n",
        "\n",
        "ANS : A **nested dictionary** is a dictionary where the value associated with a key is another dictionary. This allows you to represent more complex data structures, where each dictionary can hold multiple related key-value pairs.\n",
        "\n",
        "### Use Case Example:\n",
        "A nested dictionary can be used to store information about students and their grades in different subjects.\n",
        "\n",
        "**Example**:\n",
        "```python\n",
        "students = {\n",
        "    \"John\": {\"Math\": 90, \"Science\": 85},\n",
        "    \"Alice\": {\"Math\": 92, \"Science\": 88},\n",
        "    \"Bob\": {\"Math\": 80, \"Science\": 75}\n",
        "}\n",
        "\n",
        "# Accessing Bob's Science grade\n",
        "print(students[\"Bob\"][\"Science\"])  # Output: 75\n",
        "```\n",
        "\n",
        "In this case, the outer dictionary stores student names as keys, and the values are inner dictionaries containing subject names and grades.\n",
        "\n",
        "Q17 :  Describe the time complexity of accessing elements in a dictionary\n",
        "\n",
        "ANS : The time complexity of accessing elements in a **dictionary** is **O(1)** on average. This means that retrieving a value by its key is a constant-time operation, regardless of the size of the dictionary.\n",
        "\n",
        "This efficiency is achieved because dictionaries use a **hash table** internally, which allows for quick lookup of keys. However, in rare cases (such as hash collisions), the time complexity could degrade to **O(n)**, but this is uncommon in practice.\n",
        "\n",
        "Q 18 :  In what situations are lists preferred over dictionaries\n",
        "\n",
        "ANS : **Lists** are preferred over **dictionaries** in situations where:\n",
        "\n",
        "1. **Order matters**: Lists maintain the order of elements, making them ideal when the sequence or index of items is important.\n",
        "2. **Duplicate values are allowed**: Lists can contain duplicate elements, whereas dictionaries only store unique keys.\n",
        "3. **Iterating over elements**: Lists are more efficient for operations that involve iterating through the entire collection in order.\n",
        "\n",
        "Examples include when you need to store a collection of items like numbers, names, or other values where order or duplicates are relevant.\n",
        "\n",
        "Q19 :  Why are dictionaries considered unordered, and how does that affect data retrieval?\n",
        "\n",
        "ANS : Dictionaries are considered **unordered** because they do not maintain the order of the keys. This is due to their use of a **hash table** for storing data, where the keys are hashed to determine their storage location, not based on insertion order.\n",
        "\n",
        "However, this does not affect **data retrieval** because accessing a value by its key is still **O(1)** on average. The unordered nature only impacts iterating over the dictionary or relying on the order of elements, not the speed of looking up values by keys.\n",
        "\n",
        "Q20 : Explain the difference between a list and a dictionary in terms of data retrieval\n",
        "\n",
        "ANS : The key difference between a **list** and a **dictionary** in terms of **data retrieval** is:\n",
        "\n",
        "- **List**: Data is accessed by **index**. You need to know the position of an element in the list, and retrieval takes **O(1)** time if the index is known, but searching for an element by value takes **O(n)** time.\n",
        "  \n",
        "- **Dictionary**: Data is accessed by **key**. You retrieve values quickly by their associated key, and the operation takes **O(1)** time on average due to the use of a hash table.\n",
        "\n"
      ],
      "metadata": {
        "id": "8w7Y1Z3khdlH"
      }
    },
    {
      "cell_type": "code",
      "source": [
        "#q1\n",
        "\n",
        "my_name = \"sumit\"\n",
        "print(my_name)"
      ],
      "metadata": {
        "colab": {
          "base_uri": "https://localhost:8080/"
        },
        "id": "rBQykZMml8l6",
        "outputId": "db0c086f-786a-449a-eedc-65c6bc8a8753"
      },
      "execution_count": 13,
      "outputs": [
        {
          "output_type": "stream",
          "name": "stdout",
          "text": [
            "sumit\n"
          ]
        }
      ]
    },
    {
      "cell_type": "code",
      "source": [
        "#Q2\n",
        "\n",
        "my_string = \"Hello World\"\n",
        "\n",
        "length = len(my_string)\n",
        "\n",
        "print(length)"
      ],
      "metadata": {
        "colab": {
          "base_uri": "https://localhost:8080/"
        },
        "id": "6Fy2IUd-m4Dq",
        "outputId": "fd377df7-6bf3-4bbd-b882-af877186e12c"
      },
      "execution_count": 14,
      "outputs": [
        {
          "output_type": "stream",
          "name": "stdout",
          "text": [
            "11\n"
          ]
        }
      ]
    },
    {
      "cell_type": "code",
      "source": [
        "#Q3\n",
        "my_string = \"Python Programming\"\n",
        "\n",
        "sliced_string = my_string[:3]\n",
        "\n",
        "print(sliced_string)\n"
      ],
      "metadata": {
        "colab": {
          "base_uri": "https://localhost:8080/"
        },
        "id": "mTWLcpW7m9-5",
        "outputId": "5710e0cf-3fd5-4bca-b7b5-fd9a1bcc874c"
      },
      "execution_count": 15,
      "outputs": [
        {
          "output_type": "stream",
          "name": "stdout",
          "text": [
            "Pyt\n"
          ]
        }
      ]
    },
    {
      "cell_type": "code",
      "source": [
        "#Q4\n",
        "my_string = \"hello\"\n",
        "\n",
        "uppercase_string = my_string.upper()\n",
        "\n",
        "print(uppercase_string)\n"
      ],
      "metadata": {
        "colab": {
          "base_uri": "https://localhost:8080/"
        },
        "id": "yzGXA5-wnhGF",
        "outputId": "daff86f0-214b-4c59-edb6-b238624be173"
      },
      "execution_count": 16,
      "outputs": [
        {
          "output_type": "stream",
          "name": "stdout",
          "text": [
            "HELLO\n"
          ]
        }
      ]
    },
    {
      "cell_type": "code",
      "source": [
        "#Q5\n",
        "my_string = \"I like apple\"\n",
        "\n",
        "new_string = my_string.replace(\"apple\", \"orange\")\n",
        "\n",
        "print(new_string)\n"
      ],
      "metadata": {
        "colab": {
          "base_uri": "https://localhost:8080/"
        },
        "id": "xsb2iicBns3D",
        "outputId": "882a3573-2a27-48f0-dfc6-0641ce28ab1c"
      },
      "execution_count": 17,
      "outputs": [
        {
          "output_type": "stream",
          "name": "stdout",
          "text": [
            "I like orange\n"
          ]
        }
      ]
    },
    {
      "cell_type": "code",
      "source": [
        "#Q6\n",
        "my_list = [1, 2, 3, 4, 5]\n",
        "\n",
        "print(my_list)\n"
      ],
      "metadata": {
        "colab": {
          "base_uri": "https://localhost:8080/"
        },
        "id": "rI_zNCj5n2_U",
        "outputId": "32ce317c-c5a0-4d45-b4b5-1379ce164ec1"
      },
      "execution_count": 18,
      "outputs": [
        {
          "output_type": "stream",
          "name": "stdout",
          "text": [
            "[1, 2, 3, 4, 5]\n"
          ]
        }
      ]
    },
    {
      "cell_type": "code",
      "source": [
        "# Q7\n",
        "my_list = [1, 2, 3, 4]\n",
        "\n",
        "my_list.append(10)\n",
        "\n",
        "print(my_list)\n"
      ],
      "metadata": {
        "colab": {
          "base_uri": "https://localhost:8080/"
        },
        "id": "oOvzN_y-oB7z",
        "outputId": "4247aca7-7f6a-461b-a4d9-48fd0c0192c4"
      },
      "execution_count": 19,
      "outputs": [
        {
          "output_type": "stream",
          "name": "stdout",
          "text": [
            "[1, 2, 3, 4, 10]\n"
          ]
        }
      ]
    },
    {
      "cell_type": "code",
      "source": [
        "#Q8\n",
        "my_list = [1, 2, 3, 4, 5]\n",
        "\n",
        "my_list.remove(3)\n",
        "\n",
        "print(my_list)\n"
      ],
      "metadata": {
        "colab": {
          "base_uri": "https://localhost:8080/"
        },
        "id": "FhNjL4wjoMA4",
        "outputId": "72bfcd40-2844-43c7-cab3-0032705f788f"
      },
      "execution_count": 20,
      "outputs": [
        {
          "output_type": "stream",
          "name": "stdout",
          "text": [
            "[1, 2, 4, 5]\n"
          ]
        }
      ]
    },
    {
      "cell_type": "code",
      "source": [
        "#Q9\n",
        "my_list = ['a', 'b', 'c', 'd']\n",
        "\n",
        "second_element = my_list[1]\n",
        "\n",
        "print(second_element)\n"
      ],
      "metadata": {
        "colab": {
          "base_uri": "https://localhost:8080/"
        },
        "id": "8p2mnr73oe17",
        "outputId": "0b529d5b-a170-4007-993d-ae3df0908d79"
      },
      "execution_count": 21,
      "outputs": [
        {
          "output_type": "stream",
          "name": "stdout",
          "text": [
            "b\n"
          ]
        }
      ]
    },
    {
      "cell_type": "code",
      "source": [
        "#Q10\n",
        "\n",
        "my_list = [10, 20, 30, 40, 50]\n",
        "\n",
        "my_list.reverse()\n",
        "\n",
        "print(my_list)\n"
      ],
      "metadata": {
        "colab": {
          "base_uri": "https://localhost:8080/"
        },
        "id": "GfPRfl8LooRh",
        "outputId": "fbce3674-2b09-4aa2-b31c-272fed667636"
      },
      "execution_count": 22,
      "outputs": [
        {
          "output_type": "stream",
          "name": "stdout",
          "text": [
            "[50, 40, 30, 20, 10]\n"
          ]
        }
      ]
    },
    {
      "cell_type": "code",
      "source": [
        "#Q11\n",
        "\n",
        "my_tuple = (100, 200, 300)\n",
        "\n",
        "print(my_tuple)\n"
      ],
      "metadata": {
        "colab": {
          "base_uri": "https://localhost:8080/"
        },
        "id": "F2yaqBfIoytB",
        "outputId": "2dab78b6-c857-4e12-fcf9-37584ceeb4b4"
      },
      "execution_count": 23,
      "outputs": [
        {
          "output_type": "stream",
          "name": "stdout",
          "text": [
            "(100, 200, 300)\n"
          ]
        }
      ]
    },
    {
      "cell_type": "code",
      "source": [
        "#Q12\n",
        "\n",
        "my_tuple = ('red', 'green', 'blue', 'yellow')\n",
        "\n",
        "second_to_last_element = my_tuple[-2]\n",
        "\n",
        "print(second_to_last_element)\n"
      ],
      "metadata": {
        "colab": {
          "base_uri": "https://localhost:8080/"
        },
        "id": "m5Do_zhUo8ks",
        "outputId": "52d5de72-acee-4285-8b09-c8518efc34a1"
      },
      "execution_count": 24,
      "outputs": [
        {
          "output_type": "stream",
          "name": "stdout",
          "text": [
            "blue\n"
          ]
        }
      ]
    },
    {
      "cell_type": "code",
      "source": [
        "# Q13\n",
        "my_tuple = (10, 20, 5, 15)\n",
        "\n",
        "min_value = min(my_tuple)\n",
        "\n",
        "print(min_value)\n"
      ],
      "metadata": {
        "colab": {
          "base_uri": "https://localhost:8080/"
        },
        "id": "cjAIH1UjpN0R",
        "outputId": "bc4bfa97-8744-456a-9bee-85ef35b25c81"
      },
      "execution_count": 25,
      "outputs": [
        {
          "output_type": "stream",
          "name": "stdout",
          "text": [
            "5\n"
          ]
        }
      ]
    },
    {
      "cell_type": "code",
      "source": [
        "#Q14\n",
        "\n",
        "my_tuple = ('dog', 'cat', 'rabbit')\n",
        "\n",
        "index_of_cat = my_tuple.index('cat')\n",
        "\n",
        "print(index_of_cat)\n"
      ],
      "metadata": {
        "colab": {
          "base_uri": "https://localhost:8080/"
        },
        "id": "N4SoRweIpahL",
        "outputId": "241c5245-47e6-4f4f-874b-14b832ad629e"
      },
      "execution_count": 26,
      "outputs": [
        {
          "output_type": "stream",
          "name": "stdout",
          "text": [
            "1\n"
          ]
        }
      ]
    },
    {
      "cell_type": "code",
      "source": [
        "#Q15\n",
        "fruit_tuple = ('apple', 'banana', 'cherry')\n",
        "\n",
        "is_kiwi_in_tuple = \"kiwi\" in fruit_tuple\n",
        "\n",
        "print(is_kiwi_in_tuple)\n"
      ],
      "metadata": {
        "colab": {
          "base_uri": "https://localhost:8080/"
        },
        "id": "H1yOMGG1pl8r",
        "outputId": "b6988204-af8d-4ab7-8849-c77cd250f153"
      },
      "execution_count": 27,
      "outputs": [
        {
          "output_type": "stream",
          "name": "stdout",
          "text": [
            "False\n"
          ]
        }
      ]
    },
    {
      "cell_type": "code",
      "source": [
        "#Q16\n",
        "\n",
        "my_set = {'a', 'b', 'c'}\n",
        "\n",
        "print(my_set)\n"
      ],
      "metadata": {
        "colab": {
          "base_uri": "https://localhost:8080/"
        },
        "id": "-cz3vHfGpvoc",
        "outputId": "c7253ab6-1e06-48ef-b555-1283dcfd8e2b"
      },
      "execution_count": 28,
      "outputs": [
        {
          "output_type": "stream",
          "name": "stdout",
          "text": [
            "{'c', 'a', 'b'}\n"
          ]
        }
      ]
    },
    {
      "cell_type": "code",
      "source": [
        "#Q17\n",
        "my_set = {1, 2, 3, 4, 5}\n",
        "\n",
        "my_set.clear()\n",
        "\n",
        "print(my_set)\n"
      ],
      "metadata": {
        "colab": {
          "base_uri": "https://localhost:8080/"
        },
        "id": "Yr_5Xo6Up5CN",
        "outputId": "88fce6e9-27fd-46ca-9c35-87de9f80d015"
      },
      "execution_count": 29,
      "outputs": [
        {
          "output_type": "stream",
          "name": "stdout",
          "text": [
            "set()\n"
          ]
        }
      ]
    },
    {
      "cell_type": "code",
      "source": [
        "#Q18\n",
        "my_set = {1, 2, 3, 4}\n",
        "\n",
        "my_set.remove(4)\n",
        "\n",
        "print(my_set)\n"
      ],
      "metadata": {
        "colab": {
          "base_uri": "https://localhost:8080/"
        },
        "id": "s_-sEDu_qBRX",
        "outputId": "a0ac94da-77d0-431e-9057-08797b476384"
      },
      "execution_count": 30,
      "outputs": [
        {
          "output_type": "stream",
          "name": "stdout",
          "text": [
            "{1, 2, 3}\n"
          ]
        }
      ]
    },
    {
      "cell_type": "code",
      "source": [
        "#Q19\n",
        "set1 = {1, 2, 3}\n",
        "set2 = {3, 4, 5}\n",
        "\n",
        "union_set = set1 | set2\n",
        "\n",
        "print(union_set)\n"
      ],
      "metadata": {
        "colab": {
          "base_uri": "https://localhost:8080/"
        },
        "id": "u_QFHEH7qQmA",
        "outputId": "22232851-9e61-4a47-89b8-84c41b4f747a"
      },
      "execution_count": 31,
      "outputs": [
        {
          "output_type": "stream",
          "name": "stdout",
          "text": [
            "{1, 2, 3, 4, 5}\n"
          ]
        }
      ]
    },
    {
      "cell_type": "code",
      "source": [
        "#Q20\n",
        "set1 = {1, 2, 3}\n",
        "set2 = {2, 3, 4}\n",
        "\n",
        "intersection_set = set1 & set2\n",
        "\n",
        "print(intersection_set)\n"
      ],
      "metadata": {
        "colab": {
          "base_uri": "https://localhost:8080/"
        },
        "id": "2E_Izbzpqf5N",
        "outputId": "d3c892f3-4a4d-49a9-aa49-28232f67db04"
      },
      "execution_count": 32,
      "outputs": [
        {
          "output_type": "stream",
          "name": "stdout",
          "text": [
            "{2, 3}\n"
          ]
        }
      ]
    }
  ]
}